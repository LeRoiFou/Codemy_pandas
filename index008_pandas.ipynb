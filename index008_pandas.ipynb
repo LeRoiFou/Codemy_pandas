{
 "cells": [
  {
   "cell_type": "markdown",
   "metadata": {},
   "source": [
    "##### Cours : Grab Rows, Points, and Subsets From DataFrame - Pandas For Machine Learning 8\n",
    "##### Lien : https://www.youtube.com/watch?v=2uV1l3zkJ_Q&list=PLCC34OHNcOtqSz7Ke7kaYRf9CfviJgO55&index=8\n",
    "\n",
    "\n",
    "##### Date : 24-10-2022\n",
    "***"
   ]
  },
  {
   "cell_type": "code",
   "execution_count": 1,
   "metadata": {},
   "outputs": [],
   "source": [
    "import pandas as pd\n",
    "import numpy as np"
   ]
  },
  {
   "cell_type": "code",
   "execution_count": 2,
   "metadata": {},
   "outputs": [],
   "source": [
    "# import csv file\n",
    "my_df = pd.read_csv('data/dog_data.csv', sep='\\t')"
   ]
  },
  {
   "cell_type": "code",
   "execution_count": 3,
   "metadata": {},
   "outputs": [
    {
     "data": {
      "text/html": [
       "<div>\n",
       "<style scoped>\n",
       "    .dataframe tbody tr th:only-of-type {\n",
       "        vertical-align: middle;\n",
       "    }\n",
       "\n",
       "    .dataframe tbody tr th {\n",
       "        vertical-align: top;\n",
       "    }\n",
       "\n",
       "    .dataframe thead th {\n",
       "        text-align: right;\n",
       "    }\n",
       "</style>\n",
       "<table border=\"1\" class=\"dataframe\">\n",
       "  <thead>\n",
       "    <tr style=\"text-align: right;\">\n",
       "      <th></th>\n",
       "      <th>Breed</th>\n",
       "      <th>Color</th>\n",
       "      <th>DogName</th>\n",
       "      <th>OwnerZip</th>\n",
       "    </tr>\n",
       "  </thead>\n",
       "  <tbody>\n",
       "    <tr>\n",
       "      <th>0</th>\n",
       "      <td>COCKAPOO</td>\n",
       "      <td>BROWN</td>\n",
       "      <td>CHARLEY</td>\n",
       "      <td>15236</td>\n",
       "    </tr>\n",
       "    <tr>\n",
       "      <th>1</th>\n",
       "      <td>GER SHEPHERD</td>\n",
       "      <td>BLACK/BROWN</td>\n",
       "      <td>TACODA</td>\n",
       "      <td>15238</td>\n",
       "    </tr>\n",
       "    <tr>\n",
       "      <th>2</th>\n",
       "      <td>BELG MALINOIS</td>\n",
       "      <td>BRINDLE</td>\n",
       "      <td>EICH</td>\n",
       "      <td>15238</td>\n",
       "    </tr>\n",
       "    <tr>\n",
       "      <th>3</th>\n",
       "      <td>MIXED</td>\n",
       "      <td>BLACK/BROWN</td>\n",
       "      <td>ARROW</td>\n",
       "      <td>15104</td>\n",
       "    </tr>\n",
       "    <tr>\n",
       "      <th>4</th>\n",
       "      <td>AM PIT BULL TERRIER</td>\n",
       "      <td>WHITE/BROWN</td>\n",
       "      <td>OAKLEY</td>\n",
       "      <td>15139</td>\n",
       "    </tr>\n",
       "  </tbody>\n",
       "</table>\n",
       "</div>"
      ],
      "text/plain": [
       "                 Breed        Color  DogName  OwnerZip\n",
       "0             COCKAPOO        BROWN  CHARLEY     15236\n",
       "1         GER SHEPHERD  BLACK/BROWN   TACODA     15238\n",
       "2        BELG MALINOIS      BRINDLE     EICH     15238\n",
       "3                MIXED  BLACK/BROWN    ARROW     15104\n",
       "4  AM PIT BULL TERRIER  WHITE/BROWN   OAKLEY     15139"
      ]
     },
     "execution_count": 3,
     "metadata": {},
     "output_type": "execute_result"
    }
   ],
   "source": [
    "my_df.head()"
   ]
  },
  {
   "cell_type": "code",
   "execution_count": 4,
   "metadata": {},
   "outputs": [
    {
     "data": {
      "text/plain": [
       "Breed       BELG MALINOIS\n",
       "Color             BRINDLE\n",
       "DogName              EICH\n",
       "OwnerZip            15238\n",
       "Name: 2, dtype: object"
      ]
     },
     "execution_count": 4,
     "metadata": {},
     "output_type": "execute_result"
    }
   ],
   "source": [
    "# Grab row method 1 location\n",
    "my_df.loc[2]"
   ]
  },
  {
   "cell_type": "code",
   "execution_count": 5,
   "metadata": {},
   "outputs": [
    {
     "data": {
      "text/plain": [
       "Breed             MIXED\n",
       "Color       BLACK/BROWN\n",
       "DogName           ARROW\n",
       "OwnerZip          15104\n",
       "Name: 3, dtype: object"
      ]
     },
     "execution_count": 5,
     "metadata": {},
     "output_type": "execute_result"
    }
   ],
   "source": [
    "# Grab row method 2 index location\n",
    "my_df.iloc[3]"
   ]
  },
  {
   "cell_type": "code",
   "execution_count": 7,
   "metadata": {},
   "outputs": [
    {
     "data": {
      "text/plain": [
       "'TACODA'"
      ]
     },
     "execution_count": 7,
     "metadata": {},
     "output_type": "execute_result"
    }
   ],
   "source": [
    "# Specific points (row and column)\n",
    "# my_df.loc['Row', 'COLUMN']\n",
    "my_df.loc[1, 'DogName']"
   ]
  },
  {
   "cell_type": "code",
   "execution_count": 9,
   "metadata": {},
   "outputs": [
    {
     "data": {
      "text/html": [
       "<div>\n",
       "<style scoped>\n",
       "    .dataframe tbody tr th:only-of-type {\n",
       "        vertical-align: middle;\n",
       "    }\n",
       "\n",
       "    .dataframe tbody tr th {\n",
       "        vertical-align: top;\n",
       "    }\n",
       "\n",
       "    .dataframe thead th {\n",
       "        text-align: right;\n",
       "    }\n",
       "</style>\n",
       "<table border=\"1\" class=\"dataframe\">\n",
       "  <thead>\n",
       "    <tr style=\"text-align: right;\">\n",
       "      <th></th>\n",
       "      <th>DogName</th>\n",
       "      <th>Breed</th>\n",
       "    </tr>\n",
       "  </thead>\n",
       "  <tbody>\n",
       "    <tr>\n",
       "      <th>1</th>\n",
       "      <td>TACODA</td>\n",
       "      <td>GER SHEPHERD</td>\n",
       "    </tr>\n",
       "    <tr>\n",
       "      <th>3</th>\n",
       "      <td>ARROW</td>\n",
       "      <td>MIXED</td>\n",
       "    </tr>\n",
       "    <tr>\n",
       "      <th>4</th>\n",
       "      <td>OAKLEY</td>\n",
       "      <td>AM PIT BULL TERRIER</td>\n",
       "    </tr>\n",
       "  </tbody>\n",
       "</table>\n",
       "</div>"
      ],
      "text/plain": [
       "  DogName                Breed\n",
       "1  TACODA         GER SHEPHERD\n",
       "3   ARROW                MIXED\n",
       "4  OAKLEY  AM PIT BULL TERRIER"
      ]
     },
     "execution_count": 9,
     "metadata": {},
     "output_type": "execute_result"
    }
   ],
   "source": [
    "# Subsets\n",
    "# my_df.loc[['row, 'row'], ['column', 'column']]\n",
    "my_df.loc[[1, 3, 4], ['DogName', 'Breed']]"
   ]
  }
 ],
 "metadata": {
  "kernelspec": {
   "display_name": "Python 3.9.2 64-bit",
   "language": "python",
   "name": "python3"
  },
  "language_info": {
   "codemirror_mode": {
    "name": "ipython",
    "version": 3
   },
   "file_extension": ".py",
   "mimetype": "text/x-python",
   "name": "python",
   "nbconvert_exporter": "python",
   "pygments_lexer": "ipython3",
   "version": "3.9.2"
  },
  "orig_nbformat": 4,
  "vscode": {
   "interpreter": {
    "hash": "4a66343b811b751c2e919a98eaf18e130d7f36e7e5c88e86a0e0812e72df5f60"
   }
  }
 },
 "nbformat": 4,
 "nbformat_minor": 2
}
